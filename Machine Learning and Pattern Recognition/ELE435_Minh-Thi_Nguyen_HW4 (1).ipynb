{
 "cells": [
  {
   "cell_type": "markdown",
   "metadata": {},
   "source": [
    "# ELE 435/535 Homework 4\n",
    "\n",
    "## Unconstrained Optimization Using Gradient Descent\n",
    "\n",
    "In this homework, we will examine the minimization of functions using gradient descent. Of particular interest is the convergence rate of the algorithm. We examine this for convex and strongly coinvex functions. We also that the convewrgence rate depends on the characteristics of the problem.\n",
    "\n",
    "Credits: Adapted from practicals by Francis Bach, Alexandre d'Aspremont, Pierre Gaillard and Aude Genevay."
   ]
  },
  {
   "cell_type": "markdown",
   "metadata": {},
   "source": [
    "## Preliminaries \n",
    "\n",
    "### Gradient Descent\n",
    "\n",
    "Let $f\\colon \\mathbb{R}^n \\rightarrow \\mathbb{R}$ be differentiable with gradient $\\nabla f(x)$. Gradient descent attempts to find a local minimum of $f$ using the iterative algorithm:\n",
    "$$\n",
    "x_{t+1} = x_t -\\gamma \\nabla f(x_t),\\quad x_0\\in \\mathbb{R^n}.\n",
    "$$\n",
    "\n",
    "In order to ensure convergence to a local minimum the fixed step size $\\gamma$ can't be too big. The standard fixed step size is $\\gamma = 1/L$  where $L$ is a uniform upper bound on the largest eigenvlaue of $\\nabla^2f(x)$.\n",
    "    \n",
    "### Linear Convergence\n",
    "\n",
    "When the rate of convergence of an optimization algorithm satisfies \n",
    "\n",
    "$$\n",
    "|f(x_t)-f(x^\\star)| \\leq C \\alpha ^t\n",
    "$$\n",
    "\n",
    "for some constant $0< \\alpha <1$, the error $|f(x_t)-f(x^\\star)|$ converges to $0$ exponentially in $t$. By taking logs of both sides you see that \n",
    "\n",
    "$$\n",
    "\\log (|f(x_t)-f(x^\\star)|)\\leq t \\log(\\alpha) + \\log (C).\n",
    "$$\n",
    "\n",
    "This is also termed \"linear convergence\".\n",
    "\n",
    "### Ridge Regression\n",
    "\n",
    "We will examine the following quadratic minimization problem: \n",
    "\n",
    "$$\\min_{x \\in \\mathbb{R}^n}\\  f(x) = \\frac{1}{2m}\\|y - F x\\|^2_2+\\frac{\\lambda}{2} \\|x\\|_2^2$$\n",
    "\n",
    "Here $F \\in \\mathbb{R}^{m \\times n}$ is a given matrix and $y \\in \\mathbb{R}^m$ is a given vector. The constant $\\lambda$ is a hyperparameter that weights the relative importance of the second term versus the first term in $f(x)$. This particular problem is known as **ridge regression**.\n",
    "\n",
    "We have selected this problem as a testbed since it has a known solution. The optimal $x^\\star$ for the ridge regression problem is\n",
    "\n",
    "$$\n",
    "x^\\star = (F^T F + m\\lambda I)^{-1}F^T y.\n",
    "$$\n",
    "\n",
    "What we want to explore is the convergence rate of gradient descent to the known solution."
   ]
  },
  {
   "cell_type": "markdown",
   "metadata": {},
   "source": [
    "### Before Starting the Computational Exercises\n",
    "\n",
    "You will need to find: $\\nabla f(x)$ and $\\nabla^2 f(x)$ for the ridge regression problem. Also consider whether $f(x)$ is strongly convex. If so, determine the maximum value of $c$ for which it is $c$-strongly convex."
   ]
  },
  {
   "cell_type": "markdown",
   "metadata": {},
   "source": [
    "ANS: $\\nabla f(x) = \\left (\\frac{1}{m} F^TF + \\lambda I_n \\right ) x - \\frac{1}{m} F^T y$"
   ]
  },
  {
   "cell_type": "markdown",
   "metadata": {},
   "source": [
    "ANS: $\\nabla^2f(x) = \\frac{1}{m}F^T F + \\lambda I_n$ "
   ]
  },
  {
   "cell_type": "markdown",
   "metadata": {},
   "source": [
    "ANS: $f(x)$ is strongly convex since $f(x) -\\frac{\\lambda}{2}\\|x\\|_2^2$ is convex. It is hence also strictly convex and convex. To find the largest $c$ for which it is $c$-strongly convex expand $f(x)$ to find the quadratic term. Subtractinhg $\\frac{c}{2} x^Tx$ from this term yields\n",
    "    $$\n",
    "    x^T \\left (\\frac{1}{2m} F^TF + \\frac{\\lambda}{2} I -\\frac{c}{2} I\\right ) x\\ +\\ ...\n",
    "    $$\n",
    "To ensure the result is convex we need the quadratic term to be PSD. Hence\n",
    "    $$\n",
    "    c \\leq \\lambda + \\frac{1}{m} \\lambda_{\\min}(F^TF).\n",
    "    $$"
   ]
  },
  {
   "cell_type": "markdown",
   "metadata": {},
   "source": [
    "# Computational Exercises"
   ]
  },
  {
   "cell_type": "code",
   "execution_count": 32,
   "metadata": {},
   "outputs": [],
   "source": [
    "import numpy as np\n",
    "import matplotlib.pyplot as plt\n",
    "\n",
    "%matplotlib inline "
   ]
  },
  {
   "cell_type": "markdown",
   "metadata": {},
   "source": [
    "## 1. Warm-up: A strongly convex versus strictly convex function\n",
    "\n",
    "### Two scalar functions \n",
    "\n",
    "(a) Write a python function to compute and return $f_1(x)=x^2$ and $\\nabla f_1(x)$.\n",
    "\n",
    "(b) Write python function to compute and return $f_2(x)=x^4$ and $\\nabla f_2(x)$.\n",
    "\n",
    "(c) Code a gradient descent algorithm that calls the appropriate functions defined above and computes the minimum of the function. Use a step size $\\gamma = 0.1$, a maxiumum of $200$ interations, and stopping criterion $|\\nabla f(x)|< \\epsilon =10^{-3}$.\n",
    "\n",
    "(d) Plot $|x_t-x^\\star|$ versus the number of iterations $t$, where $x_t$ is the $t$-th iterate of gradient descent and $x^\\star$ is the known solution. To display the convergence speed of the algorithms, plot in a logarithmic scale. For this you may find the Python functions `semilogx, semilogy, loglog` useful. Display convergence plots for both functions on one graph. How and why are the plots different?"
   ]
  },
  {
   "cell_type": "code",
   "execution_count": 33,
   "metadata": {},
   "outputs": [],
   "source": [
    "# define the objective function x^2\n",
    "def objfunc1(x):\n",
    "    return(x**2, 2*x)"
   ]
  },
  {
   "cell_type": "code",
   "execution_count": 34,
   "metadata": {},
   "outputs": [],
   "source": [
    "# define the function x^4\n",
    "def objfunc2(x):\n",
    "    return(x**4, 4*x**3)"
   ]
  },
  {
   "cell_type": "code",
   "execution_count": 35,
   "metadata": {},
   "outputs": [
    {
     "name": "stdout",
     "output_type": "stream",
     "text": [
      "-0.10145251157592085\n",
      "-5.262234703579537e-21\n",
      "2.769111407555682e-41\n"
     ]
    }
   ],
   "source": [
    "# gradient descent algorithm\n",
    "\n",
    "#f1\n",
    "step_size = 0.1\n",
    "iteration = 1\n",
    "x = np.random.normal()\n",
    "print(x)\n",
    "gradient = objfunc1(x)[1]\n",
    "\n",
    "while iteration < 200 and abs(gradient) > 10^(-3):\n",
    "    x = x - step_size*(objfunc1(x)[1])\n",
    "    gradient = objfunc1(x)[1]\n",
    "    iteration = iteration + 1\n",
    "\n",
    "final_solution1 = x\n",
    "print(final_solution1)    \n",
    "print(objfunc1(final_solution1)[0])    "
   ]
  },
  {
   "cell_type": "code",
   "execution_count": 36,
   "metadata": {},
   "outputs": [
    {
     "name": "stdout",
     "output_type": "stream",
     "text": [
      "0.19463433302724176\n",
      "0.0731706848763768\n",
      "2.866477123606546e-05\n"
     ]
    }
   ],
   "source": [
    "# gradient descent algorithm\n",
    "\n",
    "#f2\n",
    "step_size = 0.1\n",
    "iteration = 1\n",
    "x = np.random.normal()\n",
    "print(x)\n",
    "gradient = objfunc2(x)[1]\n",
    "\n",
    "while iteration < 200 and abs(gradient) > 10^(-3):\n",
    "    x = x - step_size*(objfunc2(x)[1])\n",
    "    gradient = objfunc1(x)[1]\n",
    "    iteration = iteration + 1\n",
    "\n",
    "final_solution2 = x\n",
    "print(final_solution2)    \n",
    "print(objfunc2(final_solution2)[0])    "
   ]
  },
  {
   "cell_type": "code",
   "execution_count": 37,
   "metadata": {},
   "outputs": [
    {
     "data": {
      "image/png": "[encoded data removed]",
      "text/plain": [
       "<Figure size 432x288 with 1 Axes>"
      ]
     },
     "metadata": {
      "needs_background": "light"
     },
     "output_type": "display_data"
    }
   ],
   "source": [
    "#plot the magnitude difference\n",
    "\n",
    "#answer \n",
    "final_solution1\n",
    "\n",
    "#f1\n",
    "step_size = 0.1\n",
    "iteration = 1\n",
    "x0 = np.random.normal()\n",
    "gradient = objfunc1(x0)[1]\n",
    "\n",
    "x = x0\n",
    "while iteration < 200 and abs(gradient) >10^(-3):\n",
    "    x = x - step_size*(objfunc1(x)[1])\n",
    "    difference = abs(x - final_solution1)\n",
    "    plt.semilogy(iteration,difference,'b.')\n",
    "    \n",
    "    gradient = objfunc1(x)[1]\n",
    "    iteration = iteration + 1\n",
    "    \n",
    "gradient2 = objfunc2(x0)[1]\n",
    "y = x0\n",
    "iteration2 = 1\n",
    "\n",
    "while iteration2 < 200 and abs(gradient2) > 10^(-3):\n",
    "    y = y - step_size*(objfunc2(y)[1])\n",
    "    difference2 = abs(y - final_solution2)\n",
    "    plt.semilogy(iteration2,difference2,'r.')\n",
    "    gradient2 = objfunc2(y)[1]\n",
    "    iteration2 = iteration2 + 1 \n",
    "\n",
    "plt.show()   "
   ]
  },
  {
   "cell_type": "code",
   "execution_count": 38,
   "metadata": {},
   "outputs": [
    {
     "name": "stdout",
     "output_type": "stream",
     "text": [
      "The plots of both functions are different because f1 (the blue graph) is strongly convex because f'' > 0 for all x, while f2 is only strictly convex, so convergence for f1 is significantly better.\n"
     ]
    }
   ],
   "source": [
    "print(\"The plots of both functions are different because f1 (the blue graph) is strongly convex because f'' > 0 for all x, while f2 is only strictly convex, so convergence for f1 is significantly better.\")"
   ]
  },
  {
   "cell_type": "markdown",
   "metadata": {},
   "source": [
    "## 2. Ridge Regession\n",
    "\n",
    "### Step 1: Generate F and y\n",
    "\n",
    "(a) Generate a random matrix $F \\in \\mathbb{R}^{m \\times n}$ of size $m=50$ and $n=60$ where each row of $F$ belongs to $[0,1]^n$. The numpy cammand `np.random.rand` may be useful. Note that $F$ will have linearly dependent columns. Why?\n",
    "\n",
    "(b) Model $y$ as $Fx + w$ where $x\\in \\mathbb{R}^n$ and $w$ is a normally distributed noise vector in $\\mathbb{R}^m$. Generate $x \\in [0,1]^n$. Then generate a target vector $y \\in \\mathbb{R}^m$. The numpy command `random.randn` may be useful. "
   ]
  },
  {
   "cell_type": "code",
   "execution_count": 39,
   "metadata": {},
   "outputs": [
    {
     "name": "stdout",
     "output_type": "stream",
     "text": [
      "(50, 60)\n",
      "[[1.60913664e-01 7.37845187e-01 3.73053979e-01 ... 6.99717028e-01\n",
      "  4.84932191e-01 1.08116199e-01]\n",
      " [6.96688531e-02 4.89047413e-01 7.63456066e-01 ... 5.06224005e-01\n",
      "  8.84839707e-01 9.09643559e-01]\n",
      " [2.02529777e-01 5.54414013e-01 1.02900009e-01 ... 6.29179252e-01\n",
      "  5.74549316e-01 4.41285219e-01]\n",
      " ...\n",
      " [8.29258863e-01 6.19109779e-01 4.25616838e-01 ... 7.95883817e-01\n",
      "  2.88422701e-02 4.71871927e-01]\n",
      " [3.63748867e-02 5.28192285e-01 1.17164692e-02 ... 9.65749497e-01\n",
      "  6.19603703e-01 8.83882785e-01]\n",
      " [1.56049210e-01 9.37664428e-01 3.74174113e-04 ... 7.38239302e-01\n",
      "  4.25440158e-01 4.99734077e-01]]\n"
     ]
    }
   ],
   "source": [
    "#generate random matrix F \n",
    "m = 50 \n",
    "n = 60\n",
    "\n",
    "F = np.zeros((m,n))\n",
    "\n",
    "for i in range(m):\n",
    "    F[i,:] = np.random.rand(1,n)\n",
    "    \n",
    "print(F.shape)\n",
    "print(F)"
   ]
  },
  {
   "cell_type": "markdown",
   "metadata": {},
   "source": [
    "ANS: The number of columns in $F$ is greater than the number of rows. Hence the rank of $F$ is at most the number of rows. So the columns must be linearly depedent."
   ]
  },
  {
   "cell_type": "code",
   "execution_count": 40,
   "metadata": {},
   "outputs": [],
   "source": [
    "n = 60 # dimension of x\n",
    "m = 50  # number of data points\n",
    "F = F\n",
    "x = np.random.rand(n,1)\n",
    "y = np.matmul(F,x)+np.random.randn(m,1)"
   ]
  },
  {
   "cell_type": "markdown",
   "metadata": {},
   "source": [
    "### Step 2: Numerically compute the solution of ridge regression\n",
    "\n",
    "(a) Numerically compute the largest eigenvalue and smallest eigenvalue of $\\nabla^2 f(x) = P = \\frac{1}{m}F^T F + \\lambda I$. These will be used to set the constant step size in gradient descent and to bound the rate of convergence.\n",
    "\n",
    "In addition, compute and display the condition number of the matrix:\n",
    "$$\\frac{\\lambda_{\\max}(P)}{\\lambda_{\\min}(P)}.$$\n",
    "A very large condition number is a warning of a lack of numerical robustness. Investigate what happens for small $\\lambda$ values (say, $\\lambda=0.01$). Report your observations and interpretation below.\n",
    "\n",
    "(b) Now compute $x^\\star$ and $f(x^\\star)$ numerically. It's good practice to avoid computing a matrix inverse. Instead solve a set of linear equations. See the numpy command `linalg.solve`."
   ]
  },
  {
   "cell_type": "markdown",
   "metadata": {},
   "source": [
    "ANS: "
   ]
  },
  {
   "cell_type": "code",
   "execution_count": 41,
   "metadata": {},
   "outputs": [
    {
     "name": "stdout",
     "output_type": "stream",
     "text": [
      "16.122493318509996\n",
      "\n",
      "Small values of lambda results in very large values for the condition number (for instance, 0.01 gives us a condition number around 1,500). Thus, small regulation numbers result in a greater lack of numerical robustness and will be harder for convergence in the algorithm.\n"
     ]
    }
   ],
   "source": [
    "# gradient descent \n",
    "#new matrix\n",
    "\n",
    "#regularization parameter (lambda)\n",
    "reg = 1.0\n",
    "\n",
    "P = (1/m)*np.matmul(F.transpose(),F)+reg*np.identity(n)\n",
    "\n",
    "from numpy import linalg as LA\n",
    "w, v = LA.eig(P)\n",
    "\n",
    "lambda_max = np.amax(w)\n",
    "lambda_min = np.amin(w)\n",
    "\n",
    "#condition number\n",
    "condition_number = lambda_max/lambda_min\n",
    "print(condition_number)\n",
    "\n",
    "print(\"\\nSmall values of lambda results in very large values for the condition number (for instance, 0.01 gives us a condition number around 1,500). Thus, small regulation numbers result in a greater lack of numerical robustness and will be harder for convergence in the algorithm.\")"
   ]
  },
  {
   "cell_type": "code",
   "execution_count": 42,
   "metadata": {},
   "outputs": [
    {
     "name": "stdout",
     "output_type": "stream",
     "text": [
      "[[0.58816695]\n",
      " [0.44396104]\n",
      " [0.58922113]\n",
      " [0.53643962]\n",
      " [0.51417072]\n",
      " [0.51545445]\n",
      " [0.6178244 ]\n",
      " [0.36270552]\n",
      " [0.54958271]\n",
      " [0.59244361]\n",
      " [0.4905956 ]\n",
      " [0.46370824]\n",
      " [0.47820856]\n",
      " [0.49466991]\n",
      " [0.47233805]\n",
      " [0.51510378]\n",
      " [0.442617  ]\n",
      " [0.46626387]\n",
      " [0.55802331]\n",
      " [0.53242217]\n",
      " [0.54075501]\n",
      " [0.59177246]\n",
      " [0.65326153]\n",
      " [0.50723265]\n",
      " [0.49613284]\n",
      " [0.55533111]\n",
      " [0.54043036]\n",
      " [0.46656002]\n",
      " [0.48718806]\n",
      " [0.50163158]\n",
      " [0.47440591]\n",
      " [0.50990178]\n",
      " [0.56075409]\n",
      " [0.42262963]\n",
      " [0.44044002]\n",
      " [0.52365479]\n",
      " [0.53701039]\n",
      " [0.47487945]\n",
      " [0.4132228 ]\n",
      " [0.53794897]\n",
      " [0.6181041 ]\n",
      " [0.56993524]\n",
      " [0.5333991 ]\n",
      " [0.53054146]\n",
      " [0.51302591]\n",
      " [0.48628979]\n",
      " [0.43726223]\n",
      " [0.65685089]\n",
      " [0.65198143]\n",
      " [0.51305446]\n",
      " [0.48685233]\n",
      " [0.46656224]\n",
      " [0.44963641]\n",
      " [0.54482446]\n",
      " [0.49077959]\n",
      " [0.51277801]\n",
      " [0.51736107]\n",
      " [0.58494459]\n",
      " [0.55215794]\n",
      " [0.51056   ]]\n",
      "\n",
      "\n",
      "136.57985556689044\n"
     ]
    }
   ],
   "source": [
    "M = np.matmul(F.transpose(),F)+m*reg*np.identity(n)\n",
    "N = np.matmul(F.transpose(),y)\n",
    "x_optimal = np.linalg.solve(M,N)\n",
    "\n",
    "print(x_optimal)\n",
    "\n",
    "#compute f(x)\n",
    "f = 1/(2*m)*(np.linalg.norm(y - np.dot(F,x_optimal))**2 + (reg/2)*np.linalg.norm(x_optimal))**2\n",
    "print('\\n')\n",
    "print(f)"
   ]
  },
  {
   "cell_type": "markdown",
   "metadata": {},
   "source": [
    "### Step 3: Solve ridge regression using gradient descent\n",
    "\n",
    "Now that we know the solution $x^\\star$ and the largest and smallest eigenvalues of $P$ and we can explore the convergence of gradient descent with both constant stepsize and variable step size.\n",
    "\n",
    "(a) Put your code from the above steps together into one new code block to implement gradient descent using the standard constant step-size to numerically find the vector $x_*$ that minimizes the ridge regression function and the minimum value of the function. \n",
    "\n",
    "* Use $\\lambda = 1.0$.\n",
    "\n",
    "* Stopping criterion: $\\|\\nabla f(x)\\|_2 < \\epsilon = 10^{-3}$. The numpy command `linalg.norm` may be useful. \n",
    "\n",
    "* Set the constant step size $\\gamma$ using largest eigenvalue of $\\nabla^2f(x)$. \n",
    "\n",
    "(b) Display your results by plotting $\\|x_t-x^\\star\\|_2$ versus the number of iterations $t$, where $x_t$ is the $t$-th iterate of gradient descent and $x^\\star$ is the pre-computed ridge regression solution. The convergence speed of algorithms is displayed by plotting in a logarithmic scale. For this you may find the Python functions `semilogx, semilogy, loglog` useful. Your plot should be a straight line.\n",
    "\n",
    "(c) Now add to your code an implementation of gradient descent using the optimal variable step size (for quadratic functions) to find the minimum and minmum value of the ridge regression function. Use the same paramters as in partt (a).\n",
    "To aid comparison, plot your convergence results on the same graph produced in part (b).\n",
    "\n",
    "(d) Finally add these two bounds to your plot: \n",
    "\n",
    "(i) constant step bound: $e^{-2\\lambda_{\\max}(P) \\gamma t}$ and \n",
    "\n",
    "(ii) optimal step bound: $e^{-2\\lambda_{\\max}(P) \\sum_{i=1}^t \\gamma_i}$. \n",
    "\n",
    "These bounds are derived from the gradient flow approximation and are valid when the step sizes are small (See HW 4 Theory).\n"
   ]
  },
  {
   "cell_type": "code",
   "execution_count": 43,
   "metadata": {},
   "outputs": [],
   "source": [
    "# Your code to specify n, m, and select F and y\n",
    "\n",
    "n = 60 # dimension of x\n",
    "m = 50  # number of data points\n",
    "F = np.zeros((m,n))\n",
    "for i in range(m):\n",
    "    F[i,:] = np.random.rand(1,n)\n",
    "y = np.matmul(F,x)+np.random.randn(m,1)\n",
    "\n",
    "reg = 1.0\n",
    "P = (1/m)*np.matmul(F.transpose(),F)+reg*np.identity(n)\n",
    "\n",
    "from numpy import linalg as LA\n",
    "w, v = LA.eig(P)\n",
    "\n",
    "lambda_max = np.amax(w)\n",
    "lambda_min = np.amin(w)"
   ]
  },
  {
   "cell_type": "code",
   "execution_count": 44,
   "metadata": {},
   "outputs": [],
   "source": [
    "#define function \n",
    "def minfunction(x):\n",
    "    f = 1/(2*m)*(np.linalg.norm(y - np.matmul(F,x))**2 + reg/2*np.linalg.norm(x))**2\n",
    "    grad_f = np.matmul(((1/m)*np.matmul(F.transpose(), F)+reg*np.identity(n)),x) - 1/m*np.matmul(F.transpose(),y)\n",
    "    return(f, grad_f)"
   ]
  },
  {
   "cell_type": "code",
   "execution_count": 45,
   "metadata": {},
   "outputs": [
    {
     "name": "stdout",
     "output_type": "stream",
     "text": [
      "[[0.53892784]\n",
      " [0.4104063 ]\n",
      " [0.34950561]\n",
      " [0.52417391]\n",
      " [0.55867575]\n",
      " [0.56884147]\n",
      " [0.55447714]\n",
      " [0.53109982]\n",
      " [0.6311513 ]\n",
      " [0.4614477 ]\n",
      " [0.5345246 ]\n",
      " [0.49930581]\n",
      " [0.49460447]\n",
      " [0.41571867]\n",
      " [0.5459847 ]\n",
      " [0.51132147]\n",
      " [0.41578167]\n",
      " [0.5517306 ]\n",
      " [0.51302038]\n",
      " [0.43286456]\n",
      " [0.55836321]\n",
      " [0.51316423]\n",
      " [0.46542723]\n",
      " [0.48798944]\n",
      " [0.65154943]\n",
      " [0.54567316]\n",
      " [0.56767167]\n",
      " [0.47521074]\n",
      " [0.52078682]\n",
      " [0.49565572]\n",
      " [0.45389913]\n",
      " [0.47461191]\n",
      " [0.4376541 ]\n",
      " [0.48763965]\n",
      " [0.5046768 ]\n",
      " [0.59593165]\n",
      " [0.47142399]\n",
      " [0.53068347]\n",
      " [0.5491563 ]\n",
      " [0.65889803]\n",
      " [0.53175673]\n",
      " [0.48805693]\n",
      " [0.59920699]\n",
      " [0.56105499]\n",
      " [0.40162297]\n",
      " [0.4357948 ]\n",
      " [0.58532812]\n",
      " [0.67562766]\n",
      " [0.59996559]\n",
      " [0.4988818 ]\n",
      " [0.48295143]\n",
      " [0.50249546]\n",
      " [0.50916334]\n",
      " [0.47371899]\n",
      " [0.48459259]\n",
      " [0.59662801]\n",
      " [0.41567964]\n",
      " [0.53753579]\n",
      " [0.54193976]\n",
      " [0.61899872]]\n",
      "\n",
      "\n",
      "153.04534416377808\n"
     ]
    }
   ],
   "source": [
    "# Gradient Descent\n",
    "grad_f2 = 1/m*np.matmul(F.transpose(),F) + reg*np.identity(n)\n",
    "\n",
    "from numpy import linalg as LA\n",
    "w_new, v_new = LA.eig(grad_f2)\n",
    "\n",
    "lambda_max_new = np.amax(w_new)\n",
    "step_size = 1/lambda_max_new\n",
    "\n",
    "iteration_new = 1\n",
    "x0 = np.random.rand(n,1)\n",
    "gradient_function = minfunction(x0)[1]\n",
    "\n",
    "x = x0\n",
    "\n",
    "while np.linalg.norm(gradient_function) > 1.0e-3:\n",
    "    x = x - step_size*(minfunction(x)[1])\n",
    "    gradient_function = minfunction(x)[1]\n",
    "    iteration_new = iteration_new + 1\n",
    "\n",
    "optimal_solution = x\n",
    "\n",
    "print(optimal_solution)  \n",
    "print('\\n')\n",
    "print(minfunction(optimal_solution)[0])   "
   ]
  },
  {
   "cell_type": "code",
   "execution_count": 46,
   "metadata": {},
   "outputs": [
    {
     "name": "stdout",
     "output_type": "stream",
     "text": [
      "[[0.53877343]\n",
      " [0.41031112]\n",
      " [0.34943686]\n",
      " [0.52422441]\n",
      " [0.55859449]\n",
      " [0.56904704]\n",
      " [0.55458537]\n",
      " [0.53088386]\n",
      " [0.63130588]\n",
      " [0.46165219]\n",
      " [0.53472445]\n",
      " [0.49946663]\n",
      " [0.4944832 ]\n",
      " [0.41590279]\n",
      " [0.5459544 ]\n",
      " [0.51148442]\n",
      " [0.41560282]\n",
      " [0.55167714]\n",
      " [0.51298841]\n",
      " [0.43279808]\n",
      " [0.5585802 ]\n",
      " [0.51293005]\n",
      " [0.46537642]\n",
      " [0.48807763]\n",
      " [0.65156533]\n",
      " [0.54577279]\n",
      " [0.5676305 ]\n",
      " [0.47525043]\n",
      " [0.52054396]\n",
      " [0.49573319]\n",
      " [0.45400094]\n",
      " [0.47454445]\n",
      " [0.43776827]\n",
      " [0.48757354]\n",
      " [0.50442837]\n",
      " [0.59571147]\n",
      " [0.47164473]\n",
      " [0.53076534]\n",
      " [0.54912547]\n",
      " [0.65903911]\n",
      " [0.53194158]\n",
      " [0.48816856]\n",
      " [0.59913998]\n",
      " [0.56108362]\n",
      " [0.40169843]\n",
      " [0.43575844]\n",
      " [0.58533137]\n",
      " [0.67580926]\n",
      " [0.60006489]\n",
      " [0.49888725]\n",
      " [0.48298288]\n",
      " [0.50221181]\n",
      " [0.5091358 ]\n",
      " [0.47353649]\n",
      " [0.48445166]\n",
      " [0.59665078]\n",
      " [0.4155251 ]\n",
      " [0.53761365]\n",
      " [0.54156431]\n",
      " [0.61916464]]\n",
      "\n",
      "\n",
      "153.01397888732302\n"
     ]
    }
   ],
   "source": [
    "iteration_new = 1\n",
    "x0 = np.random.rand(n,1)\n",
    "gradient_function = minfunction(x0)[1]\n",
    "\n",
    "x = x0\n",
    "#step_size = gTg/gTPg\n",
    "step_size = np.matmul(gradient_function.transpose(),gradient_function)/np.matmul(np.matmul(gradient_function.transpose(),P),gradient_function)\n",
    "\n",
    "while np.linalg.norm(gradient_function) > 1.0e-3:\n",
    "    x = x - step_size*(minfunction(x)[1])\n",
    "    gradient_function = minfunction(x)[1]\n",
    "    iteration_new = iteration_new + 1\n",
    "    step_size = np.matmul(gradient_function.transpose(),gradient_function)/np.matmul(np.matmul(gradient_function.transpose(),P),gradient_function)\n",
    "\n",
    "optimal_solution2 = x\n",
    "\n",
    "print(optimal_solution2)  \n",
    "print('\\n')\n",
    "print(minfunction(optimal_solution2)[0]) "
   ]
  },
  {
   "cell_type": "code",
   "execution_count": 47,
   "metadata": {},
   "outputs": [
    {
     "data": {
      "image/png": "[encoded data removed]",
      "text/plain": [
       "<Figure size 432x288 with 1 Axes>"
      ]
     },
     "metadata": {
      "needs_background": "light"
     },
     "output_type": "display_data"
    }
   ],
   "source": [
    "iteration_graph = 1\n",
    "x_new = np.random.rand(n,1)\n",
    "gradient_function_new = minfunction(x_new)[1]\n",
    "\n",
    "x = x_new\n",
    "from numpy import linalg as LA\n",
    "w_new, v_new = LA.eig(grad_f2)\n",
    "\n",
    "lambda_max_new = np.amax(w_new)\n",
    "step_size = 1/lambda_max_new\n",
    "\n",
    "while np.linalg.norm(gradient_function_new) > 1.0e-3:\n",
    "    x = x - step_size*(minfunction(x)[1])\n",
    "    difference_graph = np.linalg.norm(x - optimal_solution)\n",
    "    plt.semilogy(iteration_graph,difference_graph,'b.')\n",
    "    \n",
    "    gradient_function_new = minfunction(x)[1]\n",
    "    iteration_graph = iteration_graph + 1\n",
    "index_array = np.arange(iteration_graph+1)\n",
    "bound_array = np.exp(-lambda_min*step_size*index_array)\n",
    "plt.plot(index_array,bound_array, 'b--')\n",
    "    \n",
    "    \n",
    "x = x_new\n",
    "gradient_function = minfunction(x_new)[1]\n",
    "iteration_new = 1\n",
    "step_size = np.matmul(gradient_function.transpose(),gradient_function)/np.matmul(np.matmul(gradient_function.transpose(),P),gradient_function)\n",
    "sum_step = step_size\n",
    "sum_step_array = [sum_step]\n",
    "while np.linalg.norm(gradient_function) > 1.0e-3:\n",
    "    x = x - step_size*(minfunction(x)[1])\n",
    "    difference_graph = np.linalg.norm(x - optimal_solution2)\n",
    "    plt.semilogy(iteration_new,difference_graph,'r.')\n",
    "    \n",
    "    gradient_function = minfunction(x)[1]\n",
    "    iteration_new = iteration_new + 1\n",
    "    step_size = np.matmul(gradient_function.transpose(),gradient_function)/np.matmul(np.matmul(gradient_function.transpose(),P),gradient_function)\n",
    "    sum_step = sum_step + step_size\n",
    "    sum_step_array = np.append(sum_step_array,[sum_step])\n",
    "    \n",
    "index_array2 = np.arange(iteration_new)\n",
    "bound_array2 = np.exp(-lambda_min*sum_step_array)\n",
    "\n",
    "plt.plot(index_array2,bound_array2, 'r--')\n",
    "plt.show()"
   ]
  },
  {
   "cell_type": "markdown",
   "metadata": {},
   "source": [
    "### Part 4: Investigate the effect of changing $\\lambda$\n",
    "    \n",
    "(a) Display the convergence plots for various values of $\\lambda$. First use a fixed step size; then use a optimal step size and compare the results. You can use four values $\\lambda \\in [1.0,4.0]$. Explain why the convergence rates are changing with $\\lambda$. "
   ]
  },
  {
   "cell_type": "code",
   "execution_count": 48,
   "metadata": {},
   "outputs": [
    {
     "data": {
      "image/png": "[encoded data removed]",
      "text/plain": [
       "<Figure size 432x288 with 1 Axes>"
      ]
     },
     "metadata": {
      "needs_background": "light"
     },
     "output_type": "display_data"
    },
    {
     "data": {
      "image/png": "[encoded data removed]",
      "text/plain": [
       "<Figure size 432x288 with 1 Axes>"
      ]
     },
     "metadata": {
      "needs_background": "light"
     },
     "output_type": "display_data"
    },
    {
     "data": {
      "image/png": "[encoded data removed]",
      "text/plain": [
       "<Figure size 432x288 with 1 Axes>"
      ]
     },
     "metadata": {
      "needs_background": "light"
     },
     "output_type": "display_data"
    },
    {
     "data": {
      "image/png": "[encoded data removed]",
      "text/plain": [
       "<Figure size 432x288 with 1 Axes>"
      ]
     },
     "metadata": {
      "needs_background": "light"
     },
     "output_type": "display_data"
    }
   ],
   "source": [
    "lambdas = np.array([1.0, 1.5, 2.5, 4.0])\n",
    "from numpy import linalg as LA\n",
    "\n",
    "for i in range(4):\n",
    "    reg = lambdas[i]\n",
    "    \n",
    "    P = (1/m)*np.matmul(F.transpose(),F)+reg*np.identity(n)\n",
    "    w, v = LA.eig(P)\n",
    "\n",
    "    lambda_max = np.amax(w)\n",
    "    lambda_min = np.amin(w)\n",
    "\n",
    "    # value\n",
    "    M = np.matmul(F.transpose(),F)+m*reg*np.identity(n)\n",
    "    N = np.matmul(F.transpose(),y)\n",
    "    x_optimal = np.linalg.solve(M,N)\n",
    "\n",
    "\n",
    "    iteration_graph = 1\n",
    "    x_new = np.random.rand(n,1)\n",
    "    gradient_function_new = minfunction(x_new)[1]\n",
    "\n",
    "    x = x_new\n",
    "    from numpy import linalg as LA\n",
    "    w_new, v_new = LA.eig(grad_f2)\n",
    "\n",
    "    lambda_max_new = np.amax(w_new)\n",
    "    step_size = 1/lambda_max_new\n",
    "\n",
    "    while np.linalg.norm(gradient_function_new) > 1.0e-3:\n",
    "        x = x - step_size*(minfunction(x)[1])\n",
    "        difference_graph = np.linalg.norm(x - x_optimal)\n",
    "        plt.semilogy(iteration_graph,difference_graph,'b.')\n",
    "\n",
    "        gradient_function_new = minfunction(x)[1]\n",
    "        iteration_graph = iteration_graph + 1\n",
    "    index_array = np.arange(iteration_graph+1)\n",
    "    bound_array = np.exp(-lambda_min*step_size*index_array)\n",
    "    plt.plot(index_array,bound_array, 'b--')\n",
    "\n",
    "\n",
    "    x = x_new\n",
    "    gradient_function = minfunction(x_new)[1]\n",
    "    iteration_new = 1\n",
    "    step_size = np.matmul(gradient_function.transpose(),gradient_function)/np.matmul(np.matmul(gradient_function.transpose(),P),gradient_function)\n",
    "    sum_step = step_size\n",
    "    sum_step_array = [sum_step]\n",
    "    while np.linalg.norm(gradient_function) > 1.0e-3:\n",
    "        x = x - step_size*(minfunction(x)[1])\n",
    "        difference_graph = np.linalg.norm(x - x_optimal)\n",
    "        plt.semilogy(iteration_new,difference_graph,'r.')\n",
    "\n",
    "        gradient_function = minfunction(x)[1]\n",
    "        iteration_new = iteration_new + 1\n",
    "        step_size = np.matmul(gradient_function.transpose(),gradient_function)/np.matmul(np.matmul(gradient_function.transpose(),P),gradient_function)\n",
    "        sum_step = sum_step + step_size\n",
    "        sum_step_array = np.append(sum_step_array,[sum_step])\n",
    "\n",
    "    index_array2 = np.arange(iteration_new)\n",
    "    bound_array2 = np.exp(-lambda_min*sum_step_array)\n",
    "\n",
    "    plt.plot(index_array2,bound_array2, 'r--')\n",
    "    plt.show()"
   ]
  },
  {
   "cell_type": "code",
   "execution_count": 49,
   "metadata": {},
   "outputs": [
    {
     "name": "stdout",
     "output_type": "stream",
     "text": [
      "The convergence rates are changing with lambda because larger lambdas place a larger emphasis on the norm(x) term of the Ridge Regression function; thus for larger values of lambda, convergence is faster because we are minimizing mainly x (the quadratic term) and the function gets more strongly convex\n"
     ]
    }
   ],
   "source": [
    "print(\"The convergence rates are changing with lambda because larger lambdas place a larger emphasis on the norm(x) term of the Ridge Regression function; thus for larger values of lambda, convergence is faster because we are minimizing mainly x (the quadratic term) and the function gets more strongly convex\")"
   ]
  },
  {
   "cell_type": "markdown",
   "metadata": {},
   "source": [
    "### Part 5: Small Values of lambda\n",
    "\n",
    "(a) In terms of convexity, what happens to the ridge regression function when $\\lambda \\rightarrow 0$? \n",
    "\n",
    "(b) Since $F^TF$ is singular, when we select $\\lambda$ to be very small, some of the eigenvalues of $P$ become close to zero while the largest eigenvlaues of $P$ remain little changed. As a result the level sets of the quadratic function become elongated and narrow. The gradient is always orthogonal to the level sets. This can result in making slow progress in minimizing $f$. \n",
    "\n",
    "Check this by plotting the convergence curves for both the standard constant step and the optimal step size on the same graph. Use $\\lambda=0.1$. On the same graph plot the constant step bound and optimal step bound defined previously."
   ]
  },
  {
   "cell_type": "markdown",
   "metadata": {},
   "source": [
    "ANS: (a) The regularization parameter $\\lambda$ changes the quadratic term in the function. As $\\lambda$ gets larger, the function gets more strongly convex; as $\\lambda$ gets small it is less strongly convex. If $F$ has linearly dependent columns, $\\lambda_{\\min}(P)$ will converege to $0$ as $\\lambda \\rightarrow 0$."
   ]
  },
  {
   "cell_type": "code",
   "execution_count": 50,
   "metadata": {},
   "outputs": [
    {
     "data": {
      "image/png": "[encoded data removed]",
      "text/plain": [
       "<Figure size 432x288 with 1 Axes>"
      ]
     },
     "metadata": {
      "needs_background": "light"
     },
     "output_type": "display_data"
    }
   ],
   "source": [
    "reg = 0.1\n",
    "\n",
    "P = (1/m)*np.matmul(F.transpose(),F)+reg*np.identity(n)\n",
    "w, v = LA.eig(P)\n",
    "\n",
    "lambda_max = np.amax(w)\n",
    "lambda_min = np.amin(w)\n",
    "\n",
    "# value\n",
    "M = np.matmul(F.transpose(),F)+m*reg*np.identity(n)\n",
    "N = np.matmul(F.transpose(),y)\n",
    "x_optimal = np.linalg.solve(M,N)\n",
    "\n",
    "iteration_graph = 1\n",
    "x_new = np.random.rand(n,1)\n",
    "gradient_function_new = minfunction(x_new)[1]\n",
    "\n",
    "x = x_new\n",
    "from numpy import linalg as LA\n",
    "w_new, v_new = LA.eig(grad_f2)\n",
    "\n",
    "lambda_max_new = np.amax(w_new)\n",
    "step_size = 1/lambda_max_new\n",
    "\n",
    "while np.linalg.norm(gradient_function_new) > 1.0e-3:\n",
    "    x = x - step_size*(minfunction(x)[1])\n",
    "    difference_graph = np.linalg.norm(x - optimal_solution)\n",
    "    plt.semilogy(iteration_graph,difference_graph,'b.')\n",
    "    \n",
    "    gradient_function_new = minfunction(x)[1]\n",
    "    iteration_graph = iteration_graph + 1\n",
    "index_array = np.arange(iteration_graph+1)\n",
    "bound_array = np.exp(-lambda_min*step_size*index_array)\n",
    "plt.plot(index_array,bound_array, 'b--')\n",
    "    \n",
    "    \n",
    "x = x_new\n",
    "gradient_function = minfunction(x_new)[1]\n",
    "iteration_new = 1\n",
    "step_size = np.matmul(gradient_function.transpose(),gradient_function)/np.matmul(np.matmul(gradient_function.transpose(),P),gradient_function)\n",
    "sum_step = step_size\n",
    "sum_step_array = [sum_step]\n",
    "while np.linalg.norm(gradient_function) > 1.0e-3:\n",
    "    x = x - step_size*(minfunction(x)[1])\n",
    "    difference_graph = np.linalg.norm(x - optimal_solution2)\n",
    "    plt.semilogy(iteration_new,difference_graph,'r.')\n",
    "    \n",
    "    gradient_function = minfunction(x)[1]\n",
    "    iteration_new = iteration_new + 1\n",
    "    step_size = np.matmul(gradient_function.transpose(),gradient_function)/np.matmul(np.matmul(gradient_function.transpose(),P),gradient_function)\n",
    "    sum_step = sum_step + step_size\n",
    "    sum_step_array = np.append(sum_step_array,[sum_step])\n",
    "    \n",
    "index_array2 = np.arange(iteration_new)\n",
    "bound_array2 = np.exp(-lambda_min*sum_step_array)\n",
    "\n",
    "plt.plot(index_array2,bound_array2, 'r--')\n",
    "plt.show()\n"
   ]
  }
 ],
 "metadata": {
  "kernelspec": {
   "display_name": "Python 3",
   "language": "python",
   "name": "python3"
  },
  "language_info": {
   "codemirror_mode": {
    "name": "ipython",
    "version": 3
   },
   "file_extension": ".py",
   "mimetype": "text/x-python",
   "name": "python",
   "nbconvert_exporter": "python",
   "pygments_lexer": "ipython3",
   "version": "3.7.3"
  }
 },
 "nbformat": 4,
 "nbformat_minor": 2
}
