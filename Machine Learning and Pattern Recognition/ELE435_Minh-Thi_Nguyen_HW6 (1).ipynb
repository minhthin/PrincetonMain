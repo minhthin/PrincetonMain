{
 "cells": [
  {
   "cell_type": "markdown",
   "metadata": {},
   "source": [
    "# ELE 435/535 Lab 6"
   ]
  },
  {
   "cell_type": "markdown",
   "metadata": {},
   "source": [
    "### Due Date : 11/11 Mon 11:59 PM"
   ]
  },
  {
   "cell_type": "code",
   "execution_count": 65,
   "metadata": {
    "collapsed": true
   },
   "outputs": [],
   "source": [
    "import numpy as np\n",
    "import matplotlib.pyplot as plt\n",
    "\n",
    "%matplotlib inline"
   ]
  },
  {
   "cell_type": "markdown",
   "metadata": {},
   "source": [
    "### Load MNIST Dataset "
   ]
  },
  {
   "cell_type": "markdown",
   "metadata": {},
   "source": [
    "We will be working with the subset of MNIST that was used for HW1 in this HW. The training data contains 10,000 samples of different digits. Let's call it matrix D (of dimension 784 * 10000). The first 1000 columns of D correspond to digit 0 ($D_0$), the next 1000 correspond to digit 1 ($D_1$), etc. "
   ]
  },
  {
   "cell_type": "code",
   "execution_count": 66,
   "metadata": {
    "collapsed": true
   },
   "outputs": [],
   "source": [
    "train_data = np.load('MNISTcwtrain1000.npy')\n",
    "train_data = train_data.astype(dtype='float64')\n",
    "test_data = np.load('MNISTcwtest100.npy')\n",
    "test_data = test_data.astype(dtype='float64')\n",
    "\n",
    "train_data = train_data/255.0\n",
    "test_data = test_data/255.0"
   ]
  },
  {
   "cell_type": "markdown",
   "metadata": {},
   "source": [
    "### Q1) Collaborative Representation Based Classification Using Lasso"
   ]
  },
  {
   "cell_type": "markdown",
   "metadata": {},
   "source": [
    "In a previous HW, we used least squares regression for classifiying data. Given any new example (x), we would like to represent it as a linear combination of columns of D (hence, the name representation based classification). This can be acheived by finding a vector w (of dimension 1,000) that satisfies: $w = \\arg\\min \\hspace{1mm} \\|Dw - x \\|_2$.\n",
    "\n",
    "The first 100 elements of w ($w_0$) quantify how much of each column from digit 0 are needed to represent x. Similarly, the next 100 elements ($w_1$) correspond to weights on $D_1$, etc.\n",
    "\n",
    "Next, prediction of pixel values of any test image (x) based only on examples of a particual digit $i$ can be found using $y_i' = D_i \\times w_i$. Then, k-th digit that yields the lowest mean squared prediction error (i.e., $k = \\arg\\min \\hspace{1mm} \\|y -y'_i \\|_2$) will determine the label of x. \n",
    "\n",
    "Following this procedure to predict the labels of each test example, the testing accuracy is 0.76."
   ]
  },
  {
   "cell_type": "markdown",
   "metadata": {},
   "source": [
    "#### * Use reduced training set ($Xr$) and test set ($test$) defined below. This will save the running time."
   ]
  },
  {
   "cell_type": "code",
   "execution_count": 67,
   "metadata": {
    "collapsed": true
   },
   "outputs": [],
   "source": [
    "Xr=np.zeros((784,1000))\n",
    "test=np.zeros((784,100))\n",
    "for ind in range(10):\n",
    "    Xr[:,100*ind:100*(ind+1)] = train_data[:,1000*ind:1000*ind+100]\n",
    "    test[:,10*ind:10*(ind+1)] = test_data[:,100*ind:100*ind+10]"
   ]
  },
  {
   "cell_type": "code",
   "execution_count": 68,
   "metadata": {
    "collapsed": false
   },
   "outputs": [
    {
     "name": "stdout",
     "output_type": "stream",
     "text": [
      "Test Accuacy :::::: 0.76\n"
     ]
    }
   ],
   "source": [
    "# least square\n",
    "X = np.matrix(Xr)\n",
    "[U,sigma,V] = np.linalg.svd( X, full_matrices=False)\n",
    "index = np.where(sigma>1e-4)\n",
    "trunc = index[0][-1]\n",
    "INV_Mat = np.linalg.pinv(np.dot(X.T,X))\n",
    "Projection_Mat = INV_Mat * (X.T) \n",
    "predicted_label = np.zeros((100,))\n",
    "for i in range(0,100):\n",
    "    test_ex = np.matrix(test[:,i]).T\n",
    "    p = Projection_Mat * test_ex\n",
    "    dist = np.zeros((10,))\n",
    "    for j in range(0,10):\n",
    "        sub_mat = X[:,j*100:(j+1)*100]\n",
    "        sub_W = p[j*100:(j+1)*100]\n",
    "        reconstructed = np.dot(sub_mat, sub_W)\n",
    "        dist[j] = np.linalg.norm(reconstructed - test_ex)\n",
    "    predicted_label[i] = np.argmin(dist)\n",
    "true_label = np.zeros((100,))\n",
    "for i in range(0,10):\n",
    "    true_label[i*10:(i+1)*10] = i\n",
    "test_err = np.count_nonzero(predicted_label - true_label)\n",
    "test_acc = 1-(test_err/100.0)\n",
    "\n",
    "print(\"Test Accuacy :::::: \" + str(test_acc))"
   ]
  },
  {
   "cell_type": "markdown",
   "metadata": {},
   "source": [
    "Now, instead of using least square, we use LASSO in this question to find a sparse $w$. The idea behind is that we only want to use a small number of training samples to represent the test sample. Then, the objective is to find a vector $w$ that satisfies: $w = \\arg\\min \\hspace{2mm} \\|Dw - x \\|_2 ^2 + \\lambda \\|w \\|_1$. "
   ]
  },
  {
   "cell_type": "markdown",
   "metadata": {},
   "source": [
    "1.Try $\\lambda = 10^{-5}, 10^{-4}, 10^{-3}, 10^{-2}, 10^{-1}, 1, 10, 100$ and plot testing accuracy vs. $\\lambda$. Compare the testing accuracy with that from least square. \n",
    "\n",
    "You can use the Lasso solver in Scikit-learn (http://scikit-learn.org/stable/modules/generated/sklearn.linear_model.Lasso.html). Note that the objective function of Lasso solver in Scikit-learn might be different from what we defined here. Please adjust your arguments to the solver accordingly."
   ]
  },
  {
   "cell_type": "code",
   "execution_count": 80,
   "metadata": {
    "collapsed": false
   },
   "outputs": [],
   "source": [
    "from sklearn import linear_model\n",
    "from sklearn.linear_model import Lasso"
   ]
  },
  {
   "cell_type": "code",
   "execution_count": 81,
   "metadata": {
    "collapsed": false
   },
   "outputs": [],
   "source": [
    "# lambda vector \n",
    "lambda_vector = [1e-5, 1e-4, 1e-3, 1e-2, 0.1, 1.0, 10, 100]\n",
    "alpha_vector = np.true_divide(lambda_vector, 2*784)"
   ]
  },
  {
   "cell_type": "code",
   "execution_count": 84,
   "metadata": {
    "collapsed": false
   },
   "outputs": [
    {
     "name": "stdout",
     "output_type": "stream",
     "text": [
      "100\n",
      "0.26\n",
      "100\n",
      "0.27\n",
      "100\n",
      "0.27\n",
      "100\n",
      "0.44\n",
      "100\n",
      "0.83\n",
      "100\n",
      "0.93\n",
      "100\n",
      "0.93\n",
      "69\n",
      "0.59\n"
     ]
    }
   ],
   "source": [
    "accuracies = np.zeros(len(lambda_vector),)\n",
    "avg =  np.zeros(len(lambda_vector),)\n",
    "avg_nk = np.zeros(len(lambda_vector),)\n",
    "nk_vector = np.zeros(len(lambda_vector),)\n",
    "\n",
    "for k in range(len(lambda_vector)):\n",
    "    \n",
    "    sum_nonzero = 0\n",
    "    sum_k_nonzero = 0\n",
    "    \n",
    "    lasso = Lasso(alpha=alpha_vector[k])\n",
    "\n",
    "    #solve the lasso and compute accuracy \n",
    "    X = np.matrix(Xr)\n",
    "    predicted_label = np.zeros((100,))\n",
    "    \n",
    "    count = 0\n",
    "    for i in range(0,100):\n",
    "        test_ex = np.matrix(test[:,i]).T\n",
    "        lasso.fit(X,test_ex)\n",
    "        p = np.zeros((1000,1))\n",
    "        p[:,0] = lasso.coef_[:]\n",
    "        \n",
    "        sum_nonzero = sum_nonzero+np.count_nonzero(p)\n",
    "        \n",
    "        dist = np.zeros((10,))\n",
    "        \n",
    "        k_true_label = int(i // 10.0)\n",
    "        sub_W_k = p[k_true_label*100:(k_true_label+1)*100]\n",
    "        \n",
    "        if np.count_nonzero(p) != 0:\n",
    "            sum_k_nonzero = sum_k_nonzero + np.count_nonzero(sub_W_k)/float(np.count_nonzero(p[:,0]))\n",
    "            count = count + 1\n",
    "        \n",
    "        for j in range(0,10):\n",
    "            sub_mat = X[:,j*100:(j+1)*100]\n",
    "            sub_W = p[j*100:(j+1)*100]\n",
    "            reconstructed = np.dot(sub_mat, sub_W)\n",
    "            dist[j] = np.linalg.norm(reconstructed - test_ex)\n",
    "        predicted_label[i] = np.argmin(dist)\n",
    "        \n",
    "        \n",
    "    print(count)    \n",
    "    true_label = np.zeros((100,))\n",
    "    for i in range(0,10):\n",
    "        true_label[i*10:(i+1)*10] = i\n",
    "    test_err = np.count_nonzero(predicted_label - true_label)\n",
    "    test_acc = 1-(test_err/100.0)\n",
    "    accuracies[k] = test_acc\n",
    "    avg[k] = sum_nonzero/100\n",
    "    avg_nk[k] = sum_k_nonzero/count\n",
    "    \n",
    "    \n",
    "    print(test_acc)"
   ]
  },
  {
   "cell_type": "code",
   "execution_count": 85,
   "metadata": {
    "collapsed": false
   },
   "outputs": [
    {
     "name": "stdout",
     "output_type": "stream",
     "text": [
      "[-0.5  -0.49 -0.49 -0.32  0.07  0.17  0.17 -0.17]\n"
     ]
    },
    {
     "data": {
      "text/plain": [
       "<matplotlib.text.Text at 0x10ecd1710>"
      ]
     },
     "execution_count": 85,
     "metadata": {},
     "output_type": "execute_result"
    },
    {
     "data": {
      "image/png": "[encoded data removed]",
      "text/plain": [
       "<matplotlib.figure.Figure at 0x10ee2b5d0>"
      ]
     },
     "metadata": {},
     "output_type": "display_data"
    }
   ],
   "source": [
    "#compare with least squares (acc = 0.76)\n",
    "print(accuracies - 0.76)\n",
    "ax = plt.gca()\n",
    "ax.scatter(lambda_vector, accuracies - 0.76)\n",
    "ax.set_xscale('log')\n",
    "ax.set_xlim([0.001, 100])\n",
    "plt.xlabel('lambda')\n",
    "plt.ylabel('Accuracy - Least Squares Accuracy')\n",
    "plt.title('Lasso compared to Linear Regression')"
   ]
  },
  {
   "cell_type": "code",
   "execution_count": 86,
   "metadata": {
    "collapsed": false
   },
   "outputs": [
    {
     "data": {
      "text/plain": [
       "<matplotlib.text.Text at 0x10f02d9d0>"
      ]
     },
     "execution_count": 86,
     "metadata": {},
     "output_type": "execute_result"
    },
    {
     "data": {
      "image/png": "[encoded data removed]",
      "text/plain": [
       "<matplotlib.figure.Figure at 0x10ef8a810>"
      ]
     },
     "metadata": {},
     "output_type": "display_data"
    }
   ],
   "source": [
    "ax = plt.gca()\n",
    "ax.scatter(lambda_vector, accuracies, color = (0,0,1))\n",
    "ax.set_xscale('log')\n",
    "ax.set_xlim([0.001, 100])\n",
    "plt.xlabel('lambda')\n",
    "plt.ylabel('Accuracy')\n",
    "plt.title('Lasso')"
   ]
  },
  {
   "cell_type": "markdown",
   "metadata": {},
   "source": [
    "2.Plot the average number of nonzero entries in $w$ vs. $\\lambda$."
   ]
  },
  {
   "cell_type": "code",
   "execution_count": 87,
   "metadata": {
    "collapsed": false
   },
   "outputs": [
    {
     "data": {
      "text/plain": [
       "<matplotlib.text.Text at 0x10f2896d0>"
      ]
     },
     "execution_count": 87,
     "metadata": {},
     "output_type": "execute_result"
    },
    {
     "data": {
      "image/png": "[encoded data removed]",
      "text/plain": [
       "<matplotlib.figure.Figure at 0x10efe1b50>"
      ]
     },
     "metadata": {},
     "output_type": "display_data"
    }
   ],
   "source": [
    "ax = plt.gca()\n",
    "ax.scatter(lambda_vector, avg, color = (0,0,1))\n",
    "ax.set_xscale('log')\n",
    "ax.set_yscale('log')\n",
    "ax.set_xlim([0.001, 100])\n",
    "ax.set_ylim([0, 2000])\n",
    "plt.xlabel('lambda')\n",
    "plt.ylabel('Nonzero entries in w')\n",
    "plt.title('Lasso')"
   ]
  },
  {
   "cell_type": "markdown",
   "metadata": {},
   "source": [
    "3.For each test sample, suppose $k$ is the right label, define $nk$ as nonzeros in $w_k$ / total # nonzeros in $w$. Plot the average of $nk$ over all testing samples vs. $\\lambda$. What do you find?"
   ]
  },
  {
   "cell_type": "code",
   "execution_count": 402,
   "metadata": {
    "collapsed": false
   },
   "outputs": [
    {
     "name": "stdout",
     "output_type": "stream",
     "text": [
      "[ 0.1         0.099994    0.100548    0.1068525   0.12462098  0.17720669\n",
      "  0.41309002  0.81183575]\n"
     ]
    },
    {
     "data": {
      "image/png": "[encoded data removed]",
      "text/plain": [
       "<matplotlib.figure.Figure at 0x1133f59d0>"
      ]
     },
     "metadata": {},
     "output_type": "display_data"
    }
   ],
   "source": [
    "ax = plt.gca()\n",
    "ax.scatter(lambda_vector, avg_nk, color = (0,0,1))\n",
    "ax.set_xscale('log')\n",
    "ax.set_xlim([0.001, 100])\n",
    "plt.xlabel('lambda')\n",
    "plt.ylabel('nk')\n",
    "plt.title('Lasso')\n",
    "print(avg_nk)"
   ]
  },
  {
   "cell_type": "code",
   "execution_count": 403,
   "metadata": {
    "collapsed": false
   },
   "outputs": [
    {
     "name": "stdout",
     "output_type": "stream",
     "text": [
      "We observe that nk increases exponentially with lambda\n"
     ]
    }
   ],
   "source": [
    "print(\"We observe that nk increases exponentially with lambda\")"
   ]
  },
  {
   "cell_type": "markdown",
   "metadata": {},
   "source": [
    "### Q2) Collaborative Representation Based Classification Using Elastic Net"
   ]
  },
  {
   "cell_type": "markdown",
   "metadata": {},
   "source": [
    "We now use the elastic net objective function to find $w$: $w = \\arg\\min \\hspace{2mm} \\|Dw - x \\|_2 ^2 + \\lambda (\\alpha \\|w \\|_1+0.5(1-\\alpha) \\|w \\|_2 ^2 )$. It linearly combines the $L1$ and $L2$ penalties. Choose an appropriate $\\lambda$ from Q1, and vary $\\alpha$ in the range $(0,1)$.\n",
    "\n",
    "You can use Scikit-learn ElasticNet (http://scikit-learn.org/stable/modules/generated/sklearn.linear_model.ElasticNet.html). Refer to the documentation on the web."
   ]
  },
  {
   "cell_type": "markdown",
   "metadata": {},
   "source": [
    "4.Plot testing accuracy vs. $\\alpha$. Compare the testing accuracy with that from least square and Lasso. "
   ]
  },
  {
   "cell_type": "code",
   "execution_count": 92,
   "metadata": {
    "collapsed": false
   },
   "outputs": [
    {
     "name": "stdout",
     "output_type": "stream",
     "text": [
      "0.84\n",
      "0.93\n",
      "0.94\n",
      "0.94\n",
      "0.94\n",
      "0.93\n",
      "0.95\n",
      "0.95\n",
      "0.95\n",
      "0.94\n"
     ]
    }
   ],
   "source": [
    "from sklearn import linear_model\n",
    "from sklearn.linear_model import ElasticNet\n",
    "\n",
    "Num_points = 10\n",
    "a_vector = np.linspace(0, 1, Num_points)\n",
    "lambda_value = 5.0\n",
    "n = 784\n",
    "alpha_value = lambda_value/(2*n)\n",
    "\n",
    "accuracies_enet = np.zeros(len(a_vector),)\n",
    "avg_enet =  np.zeros(len(a_vector),)\n",
    "avg_nk_enet = np.zeros(len(a_vector),)\n",
    "nk_vector_enet = np.zeros(len(a_vector),)\n",
    "\n",
    "\n",
    "for k in range(len(a_vector)):\n",
    "    #from the previous part, we choose lambda to be lambda = 5.0\n",
    "    l1_ratio_value = a_vector[k]\n",
    "    \n",
    "    sum_nonzero = 0\n",
    "    sum_k_nonzero = 0\n",
    "    \n",
    "    enet = ElasticNet(alpha=alpha_value, l1_ratio=l1_ratio_value)\n",
    "\n",
    "    #solve the elasticnet and compute accuracy \n",
    "    X = np.matrix(Xr)\n",
    "    predicted_label = np.zeros((100,))\n",
    "    count = 0\n",
    "    for i in range(0,100):\n",
    "        test_ex = np.matrix(test[:,i]).T\n",
    "        enet.fit(X,test_ex)\n",
    "        p = np.zeros((1000,1))\n",
    "        p[:,0] = enet.coef_[:]\n",
    "        \n",
    "        sum_nonzero = sum_nonzero+np.count_nonzero(p)\n",
    "        \n",
    "        dist = np.zeros((10,))\n",
    "        \n",
    "        k_true_label = int(i // 10.0)\n",
    "        sub_W_k = p[k_true_label*100:(k_true_label+1)*100]\n",
    "        if np.count_nonzero(p) != 0:\n",
    "            sum_k_nonzero = sum_k_nonzero + np.count_nonzero(sub_W_k)/float(np.count_nonzero(p[:,0]))\n",
    "            count = count + 1\n",
    "        \n",
    "        for j in range(0,10):\n",
    "            sub_mat = X[:,j*100:(j+1)*100]\n",
    "            sub_W = p[j*100:(j+1)*100]\n",
    "            reconstructed = np.dot(sub_mat, sub_W)\n",
    "            dist[j] = np.linalg.norm(reconstructed - test_ex)\n",
    "        predicted_label[i] = np.argmin(dist)\n",
    "        \n",
    "        \n",
    "    true_label = np.zeros((100,))\n",
    "    for i in range(0,10):\n",
    "        true_label[i*10:(i+1)*10] = i\n",
    "    test_err = np.count_nonzero(predicted_label - true_label)\n",
    "    test_acc = 1-(test_err/100.0)\n",
    "    \n",
    "    accuracies_enet[k] = test_acc\n",
    "    avg_enet[k] = sum_nonzero/100\n",
    "    if count != 0:\n",
    "        avg_nk_enet[k] = sum_k_nonzero/count\n",
    "    \n",
    "    \n",
    "    print(test_acc)\n",
    "    \n",
    "\n"
   ]
  },
  {
   "cell_type": "code",
   "execution_count": 93,
   "metadata": {
    "collapsed": false
   },
   "outputs": [
    {
     "data": {
      "text/plain": [
       "<matplotlib.text.Text at 0x10f767c10>"
      ]
     },
     "execution_count": 93,
     "metadata": {},
     "output_type": "execute_result"
    },
    {
     "data": {
      "image/png": "[encoded data removed]",
      "text/plain": [
       "<matplotlib.figure.Figure at 0x10efe1c10>"
      ]
     },
     "metadata": {},
     "output_type": "display_data"
    }
   ],
   "source": [
    "ax = plt.gca()\n",
    "ax.scatter(a_vector, accuracies_enet, color = (0,0,1))\n",
    "ax.set_xlim([0, 1])\n",
    "plt.xlabel('alpha')\n",
    "plt.ylabel('Accuracy')\n",
    "plt.title('Elastic Net')"
   ]
  },
  {
   "cell_type": "code",
   "execution_count": 94,
   "metadata": {
    "collapsed": false
   },
   "outputs": [
    {
     "data": {
      "text/plain": [
       "array([ 0.08,  0.17,  0.18,  0.18,  0.18,  0.17,  0.19,  0.19,  0.19,  0.18])"
      ]
     },
     "execution_count": 94,
     "metadata": {},
     "output_type": "execute_result"
    }
   ],
   "source": [
    "#compare to linear regression\n",
    "accuracies_enet - 0.76"
   ]
  },
  {
   "cell_type": "code",
   "execution_count": 95,
   "metadata": {
    "collapsed": false
   },
   "outputs": [
    {
     "data": {
      "text/plain": [
       "array([ 0.01,  0.1 ,  0.11,  0.11,  0.11,  0.1 ,  0.12,  0.12,  0.12,  0.11])"
      ]
     },
     "execution_count": 95,
     "metadata": {},
     "output_type": "execute_result"
    }
   ],
   "source": [
    "#compare to lasso at lambda = 10\n",
    "#compare to linear regression\n",
    "accuracies_enet - accuracies[4]"
   ]
  },
  {
   "cell_type": "markdown",
   "metadata": {},
   "source": [
    "5.Plot the average number of nonzero entries in $w$ vs. $\\alpha$ and average $nk$ vs. $\\alpha$. What do you find?"
   ]
  },
  {
   "cell_type": "code",
   "execution_count": 96,
   "metadata": {
    "collapsed": false
   },
   "outputs": [
    {
     "data": {
      "text/plain": [
       "<matplotlib.text.Text at 0x110a81950>"
      ]
     },
     "execution_count": 96,
     "metadata": {},
     "output_type": "execute_result"
    },
    {
     "data": {
      "image/png": "[encoded data removed]",
      "text/plain": [
       "<matplotlib.figure.Figure at 0x10eb39c50>"
      ]
     },
     "metadata": {},
     "output_type": "display_data"
    }
   ],
   "source": [
    "ax = plt.gca()\n",
    "ax.scatter(a_vector, avg_enet, color = (0,0,1))\n",
    "ax.set_xlim([0, 1])\n",
    "plt.xlabel('alpha')\n",
    "plt.ylabel('Nonzero entries')\n",
    "plt.title('Elastic Net')"
   ]
  },
  {
   "cell_type": "code",
   "execution_count": 97,
   "metadata": {
    "collapsed": false
   },
   "outputs": [
    {
     "data": {
      "text/plain": [
       "<matplotlib.text.Text at 0x110b33a10>"
      ]
     },
     "execution_count": 97,
     "metadata": {},
     "output_type": "execute_result"
    },
    {
     "data": {
      "image/png": "[encoded data removed]",
      "text/plain": [
       "<matplotlib.figure.Figure at 0x110a79550>"
      ]
     },
     "metadata": {},
     "output_type": "display_data"
    }
   ],
   "source": [
    "ax = plt.gca()\n",
    "ax.scatter(a_vector, avg_nk_enet, color = (0,0,1))\n",
    "ax.set_xlim([0, 1])\n",
    "plt.xlabel('alpha')\n",
    "plt.ylabel('nk')\n",
    "plt.title('Elastic Net')"
   ]
  },
  {
   "cell_type": "code",
   "execution_count": 98,
   "metadata": {
    "collapsed": false
   },
   "outputs": [
    {
     "name": "stdout",
     "output_type": "stream",
     "text": [
      "We oobserve that the number of nonzero entries also converge to 0 as alpha increases, but nk varies linearly positively with increases in alpha.\n"
     ]
    }
   ],
   "source": [
    "print(\"We observe that the number of nonzero entries also converge to 0 as alpha increases, but nk varies linearly positively with increases in alpha.\")"
   ]
  },
  {
   "cell_type": "markdown",
   "metadata": {},
   "source": [
    "### Q3) Orthogonal Matching Pursuit (OMP)"
   ]
  },
  {
   "cell_type": "markdown",
   "metadata": {},
   "source": [
    "The general sparse least squares problem can be posed as below.\n",
    "\\begin{equation}\n",
    "\\min_{x\\in\\mathbb{R}^n} \\|y-Ax\\|_2^2\n",
    "\\end{equation}\n",
    "\\begin{equation}\n",
    "\\mbox{s.t.} \\|x\\|_0 \\leq k \n",
    "\\end{equation}\n",
    "\n",
    "Orthogonal Matching Pursuit (OMP) is a greedy algorithm for sparse least squares problem above. Refer to the section 13.5.2 in the notes for the details."
   ]
  },
  {
   "cell_type": "code",
   "execution_count": 216,
   "metadata": {
    "collapsed": false
   },
   "outputs": [
    {
     "name": "stdout",
     "output_type": "stream",
     "text": [
      "X (train) : 100 x 512\n",
      "y (test) : 100 x 1\n",
      "w (weight) : 512 x 1\n"
     ]
    },
    {
     "data": {
      "image/png": "[encoded data removed]",
      "text/plain": [
       "<matplotlib.figure.Figure at 0x110adbd50>"
      ]
     },
     "metadata": {},
     "output_type": "display_data"
    }
   ],
   "source": [
    "from sklearn import linear_model\n",
    "from sklearn.datasets import make_sparse_coded_signal\n",
    "\n",
    "y, X, w = make_sparse_coded_signal(n_samples=1,n_components=512,n_features=100,n_nonzero_coefs=15,random_state=0)\n",
    "print 'X (train) : ' + str(X.shape[0]) + ' x ' + str(X.shape[1])\n",
    "print 'y (test) : ' + str(y.shape[0]) + ' x 1'\n",
    "print 'w (weight) : ' + str(w.shape[0]) + ' x 1'\n",
    "\n",
    "idx, = w.nonzero()\n",
    "\n",
    "plt.figure()\n",
    "plt.stem(idx, w[idx])\n",
    "plt.xlim([0,512])\n",
    "plt.title('Sparse weight')\n",
    "plt.show()"
   ]
  },
  {
   "cell_type": "markdown",
   "metadata": {},
   "source": [
    "6.Use the orthogonal matching pursuit algorithm to find the $\\hat{w}$ (coefficients) and compare it with the $w$ above (compute $\\|w-\\hat{w}\\|_2^2$). (http://scikit-learn.org/stable/auto_examples/linear_model/plot_omp.html)\n",
    "\n",
    "You can use scikit-learn OrthogonalMatchingPursuit (http://scikit-learn.org/stable/modules/generated/sklearn.linear_model.OrthogonalMatchingPursuit.html). Set $\\mbox{n_nonzero_coefs}=20$, $\\mbox{fit_intercept}=False$ and default for other parameters. "
   ]
  },
  {
   "cell_type": "code",
   "execution_count": 217,
   "metadata": {
    "collapsed": true
   },
   "outputs": [],
   "source": [
    "from sklearn import linear_model\n",
    "from sklearn.linear_model import OrthogonalMatchingPursuit\n",
    "from numpy import linalg as LA"
   ]
  },
  {
   "cell_type": "code",
   "execution_count": 218,
   "metadata": {
    "collapsed": true
   },
   "outputs": [],
   "source": [
    "omp = OrthogonalMatchingPursuit(n_nonzero_coefs=20, fit_intercept=False)"
   ]
  },
  {
   "cell_type": "code",
   "execution_count": 219,
   "metadata": {
    "collapsed": false
   },
   "outputs": [
    {
     "name": "stdout",
     "output_type": "stream",
     "text": [
      "(512,)\n"
     ]
    }
   ],
   "source": [
    "omp.fit(X,y)\n",
    "w_coeff = omp.coef_\n",
    "print(w_coeff.shape)"
   ]
  },
  {
   "cell_type": "code",
   "execution_count": 377,
   "metadata": {
    "collapsed": false
   },
   "outputs": [
    {
     "name": "stdout",
     "output_type": "stream",
     "text": [
      "6.37425033694e-30\n"
     ]
    }
   ],
   "source": [
    "from numpy import linalg as LA\n",
    "print(LA.norm(w_coeff-w)**2)"
   ]
  },
  {
   "cell_type": "markdown",
   "metadata": {},
   "source": [
    "7.Implement the OMP function yourself with following requirements. (Refer to the section 13.5.2 in the notes for the details of the algorithm.)\n",
    "\n",
    "[Termination conditions]\n",
    "\n",
    "1)Number of nonzero elements in $w$. \n",
    "\\begin{equation}\n",
    "\\mbox{number of nonzero elements} = k\n",
    "\\end{equation}\n",
    "2)Tolerance of the residual.\n",
    "\\begin{equation}\n",
    "\\frac{\\|y-\\hat{y}\\|_2}{\\|y\\|_2} \\leq \\mbox{tolerance}\n",
    "\\end{equation}\n",
    "3)Maximum number of iterations."
   ]
  },
  {
   "cell_type": "code",
   "execution_count": 390,
   "metadata": {
    "collapsed": true
   },
   "outputs": [],
   "source": [
    "from numpy import linalg as LA\n",
    "\n",
    "# Function outline\n",
    "# initialize t = 0 \n",
    "# S0 = 0\n",
    "# A0 = []\n",
    "# r0 = y\n",
    "\n",
    "def omp(X,y,n_nonzero,tol,max_iter):\n",
    "    stop = False\n",
    "    \n",
    "    #initialize\n",
    "    r0 = y #initial residual\n",
    "    w = [] #initial solution\n",
    "    t = 0 #initial iteration\n",
    "    S = [] #minimizer index\n",
    "\n",
    "    #iteration\n",
    "    while stop == False:\n",
    "        #update the residual\n",
    "        t = t + 1\n",
    "        \n",
    "        #select atom most correlated with residual \n",
    "        max_num = np.abs(np.dot(X.T,r0)).argmax()\n",
    "        S.append(max_num)\n",
    "        \n",
    "        w1 = LA.lstsq(X[:,S],y)[0]\n",
    "        w = np.zeros(X.shape[1])\n",
    "        for i in range(len(S)):\n",
    "            w[S[i]] = w1[i]\n",
    "        r0 = y - np.dot(X,w)\n",
    "        \n",
    "        if np.count_nonzero(w)==n_nonzero:\n",
    "            stop = True\n",
    "\n",
    "        if LA.norm(r0)/LA.norm(y) <= tol:\n",
    "            stop = True\n",
    "        if t > max_iter:\n",
    "            stop = True\n",
    "            \n",
    "    return w"
   ]
  },
  {
   "cell_type": "markdown",
   "metadata": {},
   "source": [
    "8.Repeat question 6 using your OMP function. (Set parameters as $\\mbox{n_nonzero}=15$,$\\mbox{tol}=10^{-30}$,$\\mbox{max_iter}=300$)"
   ]
  },
  {
   "cell_type": "code",
   "execution_count": 391,
   "metadata": {
    "collapsed": false
   },
   "outputs": [],
   "source": [
    "n_nonzero = 15\n",
    "tol = 1e-30\n",
    "max_iter = 300\n",
    "\n",
    "w_opm = omp(X,y,n_nonzero,tol,max_iter)"
   ]
  },
  {
   "cell_type": "code",
   "execution_count": 392,
   "metadata": {
    "collapsed": false
   },
   "outputs": [
    {
     "name": "stdout",
     "output_type": "stream",
     "text": [
      "2.06380726911e-29\n"
     ]
    }
   ],
   "source": [
    "from numpy import linalg as LA\n",
    "print(LA.norm(w_opm - w)**2)"
   ]
  },
  {
   "cell_type": "markdown",
   "metadata": {},
   "source": [
    "9.Try changing the tolerance value from $10^{-3}$ to $10^{-30}$ in log scale. 1)Plot the error ($\\|w-\\hat{w}\\|_2^2$) vs. tolerance and 2)number of nonzero elements in $\\hat{w}$ vs. tolerance. (Keep $\\mbox{n_nonzero}=15$ and $\\mbox{max_iter}=300$.)"
   ]
  },
  {
   "cell_type": "code",
   "execution_count": 393,
   "metadata": {
    "collapsed": false
   },
   "outputs": [],
   "source": [
    "Num_points = 100\n",
    "tol_vector = np.linspace(-30, -3, Num_points)"
   ]
  },
  {
   "cell_type": "code",
   "execution_count": 394,
   "metadata": {
    "collapsed": false
   },
   "outputs": [],
   "source": [
    "error_vector = np.zeros((Num_points,))\n",
    "nonzero_elements = np.zeros((Num_points,))\n",
    "\n",
    "for i in range(len(tol_vector)):\n",
    "    w_opm = omp(X,y,n_nonzero,10**(tol_vector[i]),max_iter)\n",
    "    error_vector[i] = LA.norm(w_opm - w)**2\n",
    "    nonzero_elements[i] = np.count_nonzero(w_opm)"
   ]
  },
  {
   "cell_type": "code",
   "execution_count": 399,
   "metadata": {
    "collapsed": false
   },
   "outputs": [
    {
     "data": {
      "text/plain": [
       "<matplotlib.text.Text at 0x11227a950>"
      ]
     },
     "execution_count": 399,
     "metadata": {},
     "output_type": "execute_result"
    },
    {
     "data": {
      "image/png": "[encoded data removed]",
      "text/plain": [
       "<matplotlib.figure.Figure at 0x1121c5d50>"
      ]
     },
     "metadata": {},
     "output_type": "display_data"
    }
   ],
   "source": [
    "plt.plot(tol_vector, error_vector, color = (0,0,1))\n",
    "plt.xlabel('tolerance')\n",
    "plt.ylabel('error')"
   ]
  },
  {
   "cell_type": "code",
   "execution_count": 400,
   "metadata": {
    "collapsed": false
   },
   "outputs": [
    {
     "data": {
      "text/plain": [
       "<matplotlib.text.Text at 0x112fbc9d0>"
      ]
     },
     "execution_count": 400,
     "metadata": {},
     "output_type": "execute_result"
    },
    {
     "data": {
      "image/png": "[encoded data removed]",
      "text/plain": [
       "<matplotlib.figure.Figure at 0x1122869d0>"
      ]
     },
     "metadata": {},
     "output_type": "display_data"
    }
   ],
   "source": [
    "plt.plot(tol_vector, nonzero_elements, color = (0,0,1))\n",
    "plt.xlabel('tolerance')\n",
    "plt.ylabel('error')"
   ]
  },
  {
   "cell_type": "code",
   "execution_count": null,
   "metadata": {
    "collapsed": true
   },
   "outputs": [],
   "source": []
  }
 ],
 "metadata": {
  "anaconda-cloud": {},
  "kernelspec": {
   "display_name": "Python 2",
   "language": "python",
   "name": "python2"
  },
  "language_info": {
   "codemirror_mode": {
    "name": "ipython",
    "version": 2
   },
   "file_extension": ".py",
   "mimetype": "text/x-python",
   "name": "python",
   "nbconvert_exporter": "python",
   "pygments_lexer": "ipython2",
   "version": "2.7.12"
  }
 },
 "nbformat": 4,
 "nbformat_minor": 1
}
